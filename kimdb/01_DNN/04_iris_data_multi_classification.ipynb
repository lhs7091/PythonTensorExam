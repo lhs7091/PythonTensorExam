{
 "cells": [
  {
   "cell_type": "code",
   "execution_count": 1,
   "metadata": {},
   "outputs": [
    {
     "name": "stderr",
     "output_type": "stream",
     "text": [
      "Using TensorFlow backend.\n"
     ]
    }
   ],
   "source": [
    "import matplotlib.pyplot as plt\n",
    "import numpy as np\n",
    "import pandas as pd\n",
    "from keras.layers import *\n",
    "from keras.models import *\n",
    "from keras.utils import *\n",
    "from sklearn.preprocessing import *\n",
    "import seaborn as sns\n",
    "pd.options.display.max_columns = 5"
   ]
  },
  {
   "cell_type": "code",
   "execution_count": 2,
   "metadata": {},
   "outputs": [],
   "source": [
    "names = ['sl', 'sw', 'pl', 'pw', 'class']\n",
    "df = pd.read_csv('./data/iris.data', names=names, index_col=False)"
   ]
  },
  {
   "cell_type": "code",
   "execution_count": 3,
   "metadata": {},
   "outputs": [
    {
     "data": {
      "text/html": [
       "<div>\n",
       "<style scoped>\n",
       "    .dataframe tbody tr th:only-of-type {\n",
       "        vertical-align: middle;\n",
       "    }\n",
       "\n",
       "    .dataframe tbody tr th {\n",
       "        vertical-align: top;\n",
       "    }\n",
       "\n",
       "    .dataframe thead th {\n",
       "        text-align: right;\n",
       "    }\n",
       "</style>\n",
       "<table border=\"1\" class=\"dataframe\">\n",
       "  <thead>\n",
       "    <tr style=\"text-align: right;\">\n",
       "      <th></th>\n",
       "      <th>sl</th>\n",
       "      <th>sw</th>\n",
       "      <th>pl</th>\n",
       "      <th>pw</th>\n",
       "      <th>class</th>\n",
       "    </tr>\n",
       "  </thead>\n",
       "  <tbody>\n",
       "    <tr>\n",
       "      <th>0</th>\n",
       "      <td>5.1</td>\n",
       "      <td>3.5</td>\n",
       "      <td>1.4</td>\n",
       "      <td>0.2</td>\n",
       "      <td>Iris-setosa</td>\n",
       "    </tr>\n",
       "    <tr>\n",
       "      <th>1</th>\n",
       "      <td>4.9</td>\n",
       "      <td>3.0</td>\n",
       "      <td>1.4</td>\n",
       "      <td>0.2</td>\n",
       "      <td>Iris-setosa</td>\n",
       "    </tr>\n",
       "    <tr>\n",
       "      <th>2</th>\n",
       "      <td>4.7</td>\n",
       "      <td>3.2</td>\n",
       "      <td>1.3</td>\n",
       "      <td>0.2</td>\n",
       "      <td>Iris-setosa</td>\n",
       "    </tr>\n",
       "    <tr>\n",
       "      <th>3</th>\n",
       "      <td>4.6</td>\n",
       "      <td>3.1</td>\n",
       "      <td>1.5</td>\n",
       "      <td>0.2</td>\n",
       "      <td>Iris-setosa</td>\n",
       "    </tr>\n",
       "    <tr>\n",
       "      <th>4</th>\n",
       "      <td>5.0</td>\n",
       "      <td>3.6</td>\n",
       "      <td>1.4</td>\n",
       "      <td>0.2</td>\n",
       "      <td>Iris-setosa</td>\n",
       "    </tr>\n",
       "  </tbody>\n",
       "</table>\n",
       "</div>"
      ],
      "text/plain": [
       "    sl   sw   pl   pw        class\n",
       "0  5.1  3.5  1.4  0.2  Iris-setosa\n",
       "1  4.9  3.0  1.4  0.2  Iris-setosa\n",
       "2  4.7  3.2  1.3  0.2  Iris-setosa\n",
       "3  4.6  3.1  1.5  0.2  Iris-setosa\n",
       "4  5.0  3.6  1.4  0.2  Iris-setosa"
      ]
     },
     "execution_count": 3,
     "metadata": {},
     "output_type": "execute_result"
    }
   ],
   "source": [
    "df.head()"
   ]
  },
  {
   "cell_type": "code",
   "execution_count": 4,
   "metadata": {},
   "outputs": [
    {
     "data": {
      "text/plain": [
       "(150, 5)"
      ]
     },
     "execution_count": 4,
     "metadata": {},
     "output_type": "execute_result"
    }
   ],
   "source": [
    "df.shape"
   ]
  },
  {
   "cell_type": "code",
   "execution_count": 5,
   "metadata": {},
   "outputs": [
    {
     "name": "stdout",
     "output_type": "stream",
     "text": [
      "<class 'pandas.core.frame.DataFrame'>\n",
      "RangeIndex: 150 entries, 0 to 149\n",
      "Data columns (total 5 columns):\n",
      " #   Column  Non-Null Count  Dtype  \n",
      "---  ------  --------------  -----  \n",
      " 0   sl      150 non-null    float64\n",
      " 1   sw      150 non-null    float64\n",
      " 2   pl      150 non-null    float64\n",
      " 3   pw      150 non-null    float64\n",
      " 4   class   150 non-null    object \n",
      "dtypes: float64(4), object(1)\n",
      "memory usage: 6.0+ KB\n"
     ]
    }
   ],
   "source": [
    "df.info()"
   ]
  },
  {
   "cell_type": "code",
   "execution_count": 6,
   "metadata": {},
   "outputs": [
    {
     "data": {
      "text/plain": [
       "array([0, 0, 0, 0, 0, 0, 0, 0, 0, 0, 0, 0, 0, 0, 0, 0, 0, 0, 0, 0, 0, 0,\n",
       "       0, 0, 0, 0, 0, 0, 0, 0, 0, 0, 0, 0, 0, 0, 0, 0, 0, 0, 0, 0, 0, 0,\n",
       "       0, 0, 0, 0, 0, 0, 1, 1, 1, 1, 1, 1, 1, 1, 1, 1, 1, 1, 1, 1, 1, 1,\n",
       "       1, 1, 1, 1, 1, 1, 1, 1, 1, 1, 1, 1, 1, 1, 1, 1, 1, 1, 1, 1, 1, 1,\n",
       "       1, 1, 1, 1, 1, 1, 1, 1, 1, 1, 1, 1, 2, 2, 2, 2, 2, 2, 2, 2, 2, 2,\n",
       "       2, 2, 2, 2, 2, 2, 2, 2, 2, 2, 2, 2, 2, 2, 2, 2, 2, 2, 2, 2, 2, 2,\n",
       "       2, 2, 2, 2, 2, 2, 2, 2, 2, 2, 2, 2, 2, 2, 2, 2, 2, 2])"
      ]
     },
     "execution_count": 6,
     "metadata": {},
     "output_type": "execute_result"
    }
   ],
   "source": [
    "# one-hot encoding on class\n",
    "Y = LabelEncoder().fit_transform(df['class'])\n",
    "Y"
   ]
  },
  {
   "cell_type": "code",
   "execution_count": 7,
   "metadata": {},
   "outputs": [
    {
     "data": {
      "text/plain": [
       "array([[1., 0., 0.],\n",
       "       [1., 0., 0.],\n",
       "       [1., 0., 0.],\n",
       "       [1., 0., 0.],\n",
       "       [1., 0., 0.],\n",
       "       [1., 0., 0.],\n",
       "       [1., 0., 0.],\n",
       "       [1., 0., 0.],\n",
       "       [1., 0., 0.],\n",
       "       [1., 0., 0.],\n",
       "       [1., 0., 0.],\n",
       "       [1., 0., 0.],\n",
       "       [1., 0., 0.],\n",
       "       [1., 0., 0.],\n",
       "       [1., 0., 0.],\n",
       "       [1., 0., 0.],\n",
       "       [1., 0., 0.],\n",
       "       [1., 0., 0.],\n",
       "       [1., 0., 0.],\n",
       "       [1., 0., 0.],\n",
       "       [1., 0., 0.],\n",
       "       [1., 0., 0.],\n",
       "       [1., 0., 0.],\n",
       "       [1., 0., 0.],\n",
       "       [1., 0., 0.],\n",
       "       [1., 0., 0.],\n",
       "       [1., 0., 0.],\n",
       "       [1., 0., 0.],\n",
       "       [1., 0., 0.],\n",
       "       [1., 0., 0.],\n",
       "       [1., 0., 0.],\n",
       "       [1., 0., 0.],\n",
       "       [1., 0., 0.],\n",
       "       [1., 0., 0.],\n",
       "       [1., 0., 0.],\n",
       "       [1., 0., 0.],\n",
       "       [1., 0., 0.],\n",
       "       [1., 0., 0.],\n",
       "       [1., 0., 0.],\n",
       "       [1., 0., 0.],\n",
       "       [1., 0., 0.],\n",
       "       [1., 0., 0.],\n",
       "       [1., 0., 0.],\n",
       "       [1., 0., 0.],\n",
       "       [1., 0., 0.],\n",
       "       [1., 0., 0.],\n",
       "       [1., 0., 0.],\n",
       "       [1., 0., 0.],\n",
       "       [1., 0., 0.],\n",
       "       [1., 0., 0.],\n",
       "       [0., 1., 0.],\n",
       "       [0., 1., 0.],\n",
       "       [0., 1., 0.],\n",
       "       [0., 1., 0.],\n",
       "       [0., 1., 0.],\n",
       "       [0., 1., 0.],\n",
       "       [0., 1., 0.],\n",
       "       [0., 1., 0.],\n",
       "       [0., 1., 0.],\n",
       "       [0., 1., 0.],\n",
       "       [0., 1., 0.],\n",
       "       [0., 1., 0.],\n",
       "       [0., 1., 0.],\n",
       "       [0., 1., 0.],\n",
       "       [0., 1., 0.],\n",
       "       [0., 1., 0.],\n",
       "       [0., 1., 0.],\n",
       "       [0., 1., 0.],\n",
       "       [0., 1., 0.],\n",
       "       [0., 1., 0.],\n",
       "       [0., 1., 0.],\n",
       "       [0., 1., 0.],\n",
       "       [0., 1., 0.],\n",
       "       [0., 1., 0.],\n",
       "       [0., 1., 0.],\n",
       "       [0., 1., 0.],\n",
       "       [0., 1., 0.],\n",
       "       [0., 1., 0.],\n",
       "       [0., 1., 0.],\n",
       "       [0., 1., 0.],\n",
       "       [0., 1., 0.],\n",
       "       [0., 1., 0.],\n",
       "       [0., 1., 0.],\n",
       "       [0., 1., 0.],\n",
       "       [0., 1., 0.],\n",
       "       [0., 1., 0.],\n",
       "       [0., 1., 0.],\n",
       "       [0., 1., 0.],\n",
       "       [0., 1., 0.],\n",
       "       [0., 1., 0.],\n",
       "       [0., 1., 0.],\n",
       "       [0., 1., 0.],\n",
       "       [0., 1., 0.],\n",
       "       [0., 1., 0.],\n",
       "       [0., 1., 0.],\n",
       "       [0., 1., 0.],\n",
       "       [0., 1., 0.],\n",
       "       [0., 1., 0.],\n",
       "       [0., 1., 0.],\n",
       "       [0., 1., 0.],\n",
       "       [0., 0., 1.],\n",
       "       [0., 0., 1.],\n",
       "       [0., 0., 1.],\n",
       "       [0., 0., 1.],\n",
       "       [0., 0., 1.],\n",
       "       [0., 0., 1.],\n",
       "       [0., 0., 1.],\n",
       "       [0., 0., 1.],\n",
       "       [0., 0., 1.],\n",
       "       [0., 0., 1.],\n",
       "       [0., 0., 1.],\n",
       "       [0., 0., 1.],\n",
       "       [0., 0., 1.],\n",
       "       [0., 0., 1.],\n",
       "       [0., 0., 1.],\n",
       "       [0., 0., 1.],\n",
       "       [0., 0., 1.],\n",
       "       [0., 0., 1.],\n",
       "       [0., 0., 1.],\n",
       "       [0., 0., 1.],\n",
       "       [0., 0., 1.],\n",
       "       [0., 0., 1.],\n",
       "       [0., 0., 1.],\n",
       "       [0., 0., 1.],\n",
       "       [0., 0., 1.],\n",
       "       [0., 0., 1.],\n",
       "       [0., 0., 1.],\n",
       "       [0., 0., 1.],\n",
       "       [0., 0., 1.],\n",
       "       [0., 0., 1.],\n",
       "       [0., 0., 1.],\n",
       "       [0., 0., 1.],\n",
       "       [0., 0., 1.],\n",
       "       [0., 0., 1.],\n",
       "       [0., 0., 1.],\n",
       "       [0., 0., 1.],\n",
       "       [0., 0., 1.],\n",
       "       [0., 0., 1.],\n",
       "       [0., 0., 1.],\n",
       "       [0., 0., 1.],\n",
       "       [0., 0., 1.],\n",
       "       [0., 0., 1.],\n",
       "       [0., 0., 1.],\n",
       "       [0., 0., 1.],\n",
       "       [0., 0., 1.],\n",
       "       [0., 0., 1.],\n",
       "       [0., 0., 1.],\n",
       "       [0., 0., 1.],\n",
       "       [0., 0., 1.],\n",
       "       [0., 0., 1.]], dtype=float32)"
      ]
     },
     "execution_count": 7,
     "metadata": {},
     "output_type": "execute_result"
    }
   ],
   "source": [
    "Y = to_categorical(Y)\n",
    "Y"
   ]
  },
  {
   "cell_type": "code",
   "execution_count": 8,
   "metadata": {},
   "outputs": [
    {
     "data": {
      "text/html": [
       "<div>\n",
       "<style scoped>\n",
       "    .dataframe tbody tr th:only-of-type {\n",
       "        vertical-align: middle;\n",
       "    }\n",
       "\n",
       "    .dataframe tbody tr th {\n",
       "        vertical-align: top;\n",
       "    }\n",
       "\n",
       "    .dataframe thead th {\n",
       "        text-align: right;\n",
       "    }\n",
       "</style>\n",
       "<table border=\"1\" class=\"dataframe\">\n",
       "  <thead>\n",
       "    <tr style=\"text-align: right;\">\n",
       "      <th></th>\n",
       "      <th>sl</th>\n",
       "      <th>sw</th>\n",
       "      <th>pl</th>\n",
       "      <th>pw</th>\n",
       "    </tr>\n",
       "  </thead>\n",
       "  <tbody>\n",
       "    <tr>\n",
       "      <th>0</th>\n",
       "      <td>5.1</td>\n",
       "      <td>3.5</td>\n",
       "      <td>1.4</td>\n",
       "      <td>0.2</td>\n",
       "    </tr>\n",
       "    <tr>\n",
       "      <th>1</th>\n",
       "      <td>4.9</td>\n",
       "      <td>3.0</td>\n",
       "      <td>1.4</td>\n",
       "      <td>0.2</td>\n",
       "    </tr>\n",
       "    <tr>\n",
       "      <th>2</th>\n",
       "      <td>4.7</td>\n",
       "      <td>3.2</td>\n",
       "      <td>1.3</td>\n",
       "      <td>0.2</td>\n",
       "    </tr>\n",
       "    <tr>\n",
       "      <th>3</th>\n",
       "      <td>4.6</td>\n",
       "      <td>3.1</td>\n",
       "      <td>1.5</td>\n",
       "      <td>0.2</td>\n",
       "    </tr>\n",
       "    <tr>\n",
       "      <th>4</th>\n",
       "      <td>5.0</td>\n",
       "      <td>3.6</td>\n",
       "      <td>1.4</td>\n",
       "      <td>0.2</td>\n",
       "    </tr>\n",
       "  </tbody>\n",
       "</table>\n",
       "</div>"
      ],
      "text/plain": [
       "    sl   sw   pl   pw\n",
       "0  5.1  3.5  1.4  0.2\n",
       "1  4.9  3.0  1.4  0.2\n",
       "2  4.7  3.2  1.3  0.2\n",
       "3  4.6  3.1  1.5  0.2\n",
       "4  5.0  3.6  1.4  0.2"
      ]
     },
     "execution_count": 8,
     "metadata": {},
     "output_type": "execute_result"
    }
   ],
   "source": [
    "X = df.drop('class', axis=1)\n",
    "X.head()"
   ]
  },
  {
   "cell_type": "code",
   "execution_count": 9,
   "metadata": {},
   "outputs": [],
   "source": [
    "# set training data and test data\n",
    "X_train = X[:-5]\n",
    "X_test = X[-5:]\n",
    "\n",
    "Y_train = Y[:-5]\n",
    "Y_test = Y[-5:]"
   ]
  },
  {
   "cell_type": "code",
   "execution_count": 10,
   "metadata": {},
   "outputs": [
    {
     "name": "stdout",
     "output_type": "stream",
     "text": [
      "_________________________________________________________________\n",
      "Layer (type)                 Output Shape              Param #   \n",
      "=================================================================\n",
      "dense_1 (Dense)              (None, 256)               1280      \n",
      "_________________________________________________________________\n",
      "dense_2 (Dense)              (None, 128)               32896     \n",
      "_________________________________________________________________\n",
      "dense_3 (Dense)              (None, 32)                4128      \n",
      "_________________________________________________________________\n",
      "dense_4 (Dense)              (None, 3)                 99        \n",
      "=================================================================\n",
      "Total params: 38,403\n",
      "Trainable params: 38,403\n",
      "Non-trainable params: 0\n",
      "_________________________________________________________________\n"
     ]
    }
   ],
   "source": [
    "model = Sequential()\n",
    "model.add(Dense(256, input_shape=(4,), activation='relu'))\n",
    "model.add(Dense(128, activation='relu'))\n",
    "model.add(Dense(32, activation='relu'))\n",
    "model.add(Dense(3, activation='softmax'))\n",
    "\n",
    "model.summary()"
   ]
  },
  {
   "cell_type": "code",
   "execution_count": 11,
   "metadata": {},
   "outputs": [],
   "source": [
    "# define optimizer and Error Function\n",
    "model.compile(loss='categorical_crossentropy', optimizer='adam', metrics=['accuracy'])"
   ]
  },
  {
   "cell_type": "code",
   "execution_count": 12,
   "metadata": {
    "scrolled": true
   },
   "outputs": [
    {
     "name": "stdout",
     "output_type": "stream",
     "text": [
      "Train on 130 samples, validate on 15 samples\n",
      "Epoch 1/60\n",
      "130/130 [==============================] - 4s 30ms/step - loss: 1.0339 - acc: 0.5000 - val_loss: 1.2491 - val_acc: 0.0000e+00\n",
      "Epoch 2/60\n",
      "130/130 [==============================] - 0s 562us/step - loss: 0.7700 - acc: 0.7692 - val_loss: 1.2828 - val_acc: 0.0000e+00\n",
      "Epoch 3/60\n",
      "130/130 [==============================] - 0s 503us/step - loss: 0.6297 - acc: 0.7692 - val_loss: 0.8684 - val_acc: 0.0000e+00\n",
      "Epoch 4/60\n",
      "130/130 [==============================] - 0s 693us/step - loss: 0.5354 - acc: 0.8462 - val_loss: 0.5712 - val_acc: 1.0000\n",
      "Epoch 5/60\n",
      "130/130 [==============================] - 0s 804us/step - loss: 0.4682 - acc: 0.9385 - val_loss: 0.8259 - val_acc: 0.0000e+00\n",
      "Epoch 6/60\n",
      "130/130 [==============================] - 0s 768us/step - loss: 0.4178 - acc: 0.7846 - val_loss: 1.0402 - val_acc: 0.0000e+00\n",
      "Epoch 7/60\n",
      "130/130 [==============================] - 0s 583us/step - loss: 0.3842 - acc: 0.7692 - val_loss: 0.7841 - val_acc: 0.2000\n",
      "Epoch 8/60\n",
      "130/130 [==============================] - 0s 2ms/step - loss: 0.3533 - acc: 0.9231 - val_loss: 0.5955 - val_acc: 0.7333\n",
      "Epoch 9/60\n",
      "130/130 [==============================] - 0s 1ms/step - loss: 0.3192 - acc: 0.9231 - val_loss: 0.9796 - val_acc: 0.0000e+00\n",
      "Epoch 10/60\n",
      "130/130 [==============================] - 0s 2ms/step - loss: 0.3453 - acc: 0.7846 - val_loss: 0.9774 - val_acc: 0.0000e+00\n",
      "Epoch 11/60\n",
      "130/130 [==============================] - 0s 977us/step - loss: 0.2861 - acc: 0.8692 - val_loss: 0.4772 - val_acc: 1.0000\n",
      "Epoch 12/60\n",
      "130/130 [==============================] - 0s 803us/step - loss: 0.2558 - acc: 0.9615 - val_loss: 0.7471 - val_acc: 0.4667\n",
      "Epoch 13/60\n",
      "130/130 [==============================] - 0s 701us/step - loss: 0.2524 - acc: 0.8692 - val_loss: 0.6660 - val_acc: 0.6667\n",
      "Epoch 14/60\n",
      "130/130 [==============================] - 0s 1ms/step - loss: 0.2208 - acc: 0.9462 - val_loss: 0.6507 - val_acc: 0.6667\n",
      "Epoch 15/60\n",
      "130/130 [==============================] - 0s 1ms/step - loss: 0.2385 - acc: 0.8846 - val_loss: 0.4877 - val_acc: 0.7333\n",
      "Epoch 16/60\n",
      "130/130 [==============================] - 0s 583us/step - loss: 0.2281 - acc: 0.9154 - val_loss: 0.2315 - val_acc: 1.0000\n",
      "Epoch 17/60\n",
      "130/130 [==============================] - 0s 1ms/step - loss: 0.1882 - acc: 0.9538 - val_loss: 1.0469 - val_acc: 0.4000\n",
      "Epoch 18/60\n",
      "130/130 [==============================] - 0s 1ms/step - loss: 0.2256 - acc: 0.8846 - val_loss: 0.3628 - val_acc: 0.8667\n",
      "Epoch 19/60\n",
      "130/130 [==============================] - 0s 909us/step - loss: 0.1665 - acc: 0.9769 - val_loss: 0.3834 - val_acc: 0.7333\n",
      "Epoch 20/60\n",
      "130/130 [==============================] - 0s 997us/step - loss: 0.1753 - acc: 0.9308 - val_loss: 0.8030 - val_acc: 0.4667\n",
      "Epoch 21/60\n",
      "130/130 [==============================] - 0s 495us/step - loss: 0.1726 - acc: 0.9385 - val_loss: 0.1837 - val_acc: 1.0000\n",
      "Epoch 22/60\n",
      "130/130 [==============================] - 0s 1ms/step - loss: 0.1842 - acc: 0.9385 - val_loss: 0.1779 - val_acc: 1.0000\n",
      "Epoch 23/60\n",
      "130/130 [==============================] - 0s 2ms/step - loss: 0.1417 - acc: 0.9615 - val_loss: 0.5199 - val_acc: 0.6667\n",
      "Epoch 24/60\n",
      "130/130 [==============================] - 0s 964us/step - loss: 0.1428 - acc: 0.9462 - val_loss: 0.3428 - val_acc: 0.7333\n",
      "Epoch 25/60\n",
      "130/130 [==============================] - 0s 2ms/step - loss: 0.1155 - acc: 0.9923 - val_loss: 0.2363 - val_acc: 1.0000\n",
      "Epoch 26/60\n",
      "130/130 [==============================] - 0s 1ms/step - loss: 0.1133 - acc: 0.9769 - val_loss: 0.3090 - val_acc: 0.8000\n",
      "Epoch 27/60\n",
      "130/130 [==============================] - 0s 2ms/step - loss: 0.1091 - acc: 0.9769 - val_loss: 0.3164 - val_acc: 0.7333\n",
      "Epoch 28/60\n",
      "130/130 [==============================] - 0s 2ms/step - loss: 0.1054 - acc: 0.9538 - val_loss: 0.3444 - val_acc: 0.7333\n",
      "Epoch 29/60\n",
      "130/130 [==============================] - 0s 1ms/step - loss: 0.1029 - acc: 0.9538 - val_loss: 0.2204 - val_acc: 1.0000\n",
      "Epoch 30/60\n",
      "130/130 [==============================] - 0s 1ms/step - loss: 0.1194 - acc: 0.9692 - val_loss: 0.1576 - val_acc: 1.0000\n",
      "Epoch 31/60\n",
      "130/130 [==============================] - 0s 2ms/step - loss: 0.0957 - acc: 0.9769 - val_loss: 0.6631 - val_acc: 0.6667\n",
      "Epoch 32/60\n",
      "130/130 [==============================] - 0s 2ms/step - loss: 0.1216 - acc: 0.9538 - val_loss: 0.2274 - val_acc: 0.9333\n",
      "Epoch 33/60\n",
      "130/130 [==============================] - 0s 948us/step - loss: 0.0934 - acc: 0.9846 - val_loss: 0.2638 - val_acc: 0.8667\n",
      "Epoch 34/60\n",
      "130/130 [==============================] - 0s 970us/step - loss: 0.0895 - acc: 0.9692 - val_loss: 0.3740 - val_acc: 0.7333\n",
      "Epoch 35/60\n",
      "130/130 [==============================] - 0s 1ms/step - loss: 0.0905 - acc: 0.9538 - val_loss: 0.3077 - val_acc: 0.7333\n",
      "Epoch 36/60\n",
      "130/130 [==============================] - 0s 1ms/step - loss: 0.0879 - acc: 0.9692 - val_loss: 0.2091 - val_acc: 0.9333\n",
      "Epoch 37/60\n",
      "130/130 [==============================] - 0s 920us/step - loss: 0.0842 - acc: 0.9615 - val_loss: 0.3139 - val_acc: 0.7333\n",
      "Epoch 38/60\n",
      "130/130 [==============================] - 0s 2ms/step - loss: 0.0814 - acc: 0.9615 - val_loss: 0.2217 - val_acc: 0.9333\n",
      "Epoch 39/60\n",
      "130/130 [==============================] - 0s 1000us/step - loss: 0.0781 - acc: 0.9846 - val_loss: 0.1888 - val_acc: 0.9333\n",
      "Epoch 40/60\n",
      "130/130 [==============================] - 0s 1ms/step - loss: 0.0784 - acc: 0.9846 - val_loss: 0.3485 - val_acc: 0.7333\n",
      "Epoch 41/60\n",
      "130/130 [==============================] - 0s 980us/step - loss: 0.0975 - acc: 0.9538 - val_loss: 0.1557 - val_acc: 1.0000\n",
      "Epoch 42/60\n",
      "130/130 [==============================] - 0s 817us/step - loss: 0.0867 - acc: 0.9692 - val_loss: 0.2199 - val_acc: 0.8667\n",
      "Epoch 43/60\n",
      "130/130 [==============================] - 0s 1ms/step - loss: 0.0718 - acc: 0.9615 - val_loss: 0.3815 - val_acc: 0.7333\n",
      "Epoch 44/60\n",
      "130/130 [==============================] - 0s 609us/step - loss: 0.0808 - acc: 0.9615 - val_loss: 0.1663 - val_acc: 1.0000\n",
      "Epoch 45/60\n",
      "130/130 [==============================] - 0s 588us/step - loss: 0.0736 - acc: 0.9769 - val_loss: 0.2627 - val_acc: 0.8000\n",
      "Epoch 46/60\n",
      "130/130 [==============================] - 0s 589us/step - loss: 0.0908 - acc: 0.9538 - val_loss: 0.1814 - val_acc: 0.9333\n",
      "Epoch 47/60\n",
      "130/130 [==============================] - 0s 484us/step - loss: 0.1033 - acc: 0.9692 - val_loss: 0.1290 - val_acc: 1.0000\n",
      "Epoch 48/60\n",
      "130/130 [==============================] - 0s 659us/step - loss: 0.0651 - acc: 0.9846 - val_loss: 0.6800 - val_acc: 0.6667\n",
      "Epoch 49/60\n",
      "130/130 [==============================] - 0s 514us/step - loss: 0.1037 - acc: 0.9538 - val_loss: 0.0912 - val_acc: 1.0000\n",
      "Epoch 50/60\n",
      "130/130 [==============================] - 0s 499us/step - loss: 0.0880 - acc: 0.9692 - val_loss: 0.2222 - val_acc: 0.8667\n",
      "Epoch 51/60\n",
      "130/130 [==============================] - 0s 552us/step - loss: 0.1065 - acc: 0.9462 - val_loss: 0.2511 - val_acc: 0.8000\n",
      "Epoch 52/60\n",
      "130/130 [==============================] - 0s 603us/step - loss: 0.0749 - acc: 0.9692 - val_loss: 0.0240 - val_acc: 1.0000\n",
      "Epoch 53/60\n",
      "130/130 [==============================] - 0s 642us/step - loss: 0.1063 - acc: 0.9615 - val_loss: 0.6053 - val_acc: 0.6667\n",
      "Epoch 54/60\n",
      "130/130 [==============================] - 0s 480us/step - loss: 0.1494 - acc: 0.9462 - val_loss: 0.1995 - val_acc: 0.8667\n",
      "Epoch 55/60\n",
      "130/130 [==============================] - 0s 659us/step - loss: 0.0828 - acc: 0.9692 - val_loss: 0.0774 - val_acc: 1.0000\n",
      "Epoch 56/60\n",
      "130/130 [==============================] - 0s 651us/step - loss: 0.0722 - acc: 0.9769 - val_loss: 0.7471 - val_acc: 0.6667\n",
      "Epoch 57/60\n",
      "130/130 [==============================] - 0s 727us/step - loss: 0.1530 - acc: 0.9462 - val_loss: 0.3063 - val_acc: 0.8000\n",
      "Epoch 58/60\n",
      "130/130 [==============================] - 0s 753us/step - loss: 0.0757 - acc: 0.9769 - val_loss: 0.0283 - val_acc: 1.0000\n",
      "Epoch 59/60\n",
      "130/130 [==============================] - 0s 552us/step - loss: 0.0964 - acc: 0.9615 - val_loss: 0.4572 - val_acc: 0.7333\n",
      "Epoch 60/60\n",
      "130/130 [==============================] - 0s 759us/step - loss: 0.1025 - acc: 0.9538 - val_loss: 0.3787 - val_acc: 0.7333\n"
     ]
    }
   ],
   "source": [
    "hist = model.fit(X_train, Y_train, epochs=60, validation_split=0.1)"
   ]
  },
  {
   "cell_type": "code",
   "execution_count": 13,
   "metadata": {},
   "outputs": [
    {
     "data": {
      "text/plain": [
       "Text(0.5, 1.0, 'acc')"
      ]
     },
     "execution_count": 13,
     "metadata": {},
     "output_type": "execute_result"
    },
    {
     "data": {
      "image/png": "[encoded data removed]",
      "text/plain": [
       "<Figure size 720x720 with 2 Axes>"
      ]
     },
     "metadata": {
      "needs_background": "light"
     },
     "output_type": "display_data"
    }
   ],
   "source": [
    "plt.figure(figsize=(10,10))\n",
    "plt.subplot(1,2,1)\n",
    "plt.plot(hist.history['loss'], color='r')\n",
    "plt.plot(hist.history['val_loss'], color='b')\n",
    "plt.title('loss')\n",
    "\n",
    "plt.subplot(1,2,2)\n",
    "plt.plot(hist.history['acc'], color='r')\n",
    "plt.plot(hist.history['val_acc'], color='b')\n",
    "plt.title('acc')"
   ]
  },
  {
   "cell_type": "code",
   "execution_count": 14,
   "metadata": {},
   "outputs": [
    {
     "name": "stdout",
     "output_type": "stream",
     "text": [
      "5/5 [==============================] - 0s 1ms/step\n",
      "[0.16701674461364746, 1.0]\n"
     ]
    }
   ],
   "source": [
    "# evaluation\n",
    "score = model.evaluate(X_test, Y_test)\n",
    "\n",
    "print(score)"
   ]
  },
  {
   "cell_type": "code",
   "execution_count": 15,
   "metadata": {},
   "outputs": [
    {
     "name": "stdout",
     "output_type": "stream",
     "text": [
      "[[2.1187867e-05 1.3452679e-01 8.6545199e-01]\n",
      " [3.5383542e-05 1.2942192e-01 8.7054271e-01]\n",
      " [4.9095634e-05 2.9428113e-01 7.0566976e-01]\n",
      " [7.0593533e-06 2.8945019e-02 9.7104788e-01]\n",
      " [4.5475132e-05 1.5961942e-01 8.4033507e-01]]\n",
      "[[0. 0. 1.]\n",
      " [0. 0. 1.]\n",
      " [0. 0. 1.]\n",
      " [0. 0. 1.]\n",
      " [0. 0. 1.]]\n"
     ]
    }
   ],
   "source": [
    "# prediction\n",
    "pred = model.predict(X_test)\n",
    "print(pred)\n",
    "print(Y_test)"
   ]
  },
  {
   "cell_type": "code",
   "execution_count": null,
   "metadata": {},
   "outputs": [],
   "source": []
  }
 ],
 "metadata": {
  "kernelspec": {
   "display_name": "Python 3",
   "language": "python",
   "name": "python3"
  },
  "language_info": {
   "codemirror_mode": {
    "name": "ipython",
    "version": 3
   },
   "file_extension": ".py",
   "mimetype": "text/x-python",
   "name": "python",
   "nbconvert_exporter": "python",
   "pygments_lexer": "ipython3",
   "version": "3.6.9"
  }
 },
 "nbformat": 4,
 "nbformat_minor": 4
}
