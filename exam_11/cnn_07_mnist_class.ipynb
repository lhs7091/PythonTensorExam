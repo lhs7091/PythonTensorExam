{
  "nbformat": 4,
  "nbformat_minor": 0,
  "metadata": {
    "colab": {
      "name": "test.py",
      "provenance": [],
      "collapsed_sections": [],
      "authorship_tag": "ABX9TyNDJVYl3LoN2/cfUMCRIZt+",
      "include_colab_link": true
    },
    "kernelspec": {
      "name": "python3",
      "display_name": "Python 3"
    },
    "accelerator": "GPU"
  },
  "cells": [
    {
      "cell_type": "markdown",
      "metadata": {
        "id": "view-in-github",
        "colab_type": "text"
      },
      "source": [
        "<a href=\"https://colab.research.google.com/github/lhs7091/PythonTensorExam/blob/master/exam_11/cnn_07_mnist_class.ipynb\" target=\"_parent\"><img src=\"https://colab.research.google.com/assets/colab-badge.svg\" alt=\"Open In Colab\"/></a>"
      ]
    },
    {
      "cell_type": "code",
      "metadata": {
        "id": "E16GXDmBBFzL",
        "colab_type": "code",
        "outputId": "4f51dc13-3862-4150-a541-07f471f46a93",
        "colab": {
          "base_uri": "https://localhost:8080/",
          "height": 428
        }
      },
      "source": [
        "import os\n",
        "import random\n",
        "import matplotlib.pyplot as plt\n",
        "%tensorflow_version 1.x\n",
        "import tensorflow as tf\n",
        "print(tf.__version__)\n",
        "\n",
        "\n",
        "import time\n",
        "start_time = time.time()\n",
        "\n",
        "# MNIST dowload\n",
        "from tensorflow.examples.tutorials.mnist import input_data\n",
        "mnist = input_data.read_data_sets(\"./mist_data\", one_hot=True)"
      ],
      "execution_count": 2,
      "outputs": [
        {
          "output_type": "stream",
          "text": [
            "1.15.0\n",
            "WARNING:tensorflow:From <ipython-input-2-0db307024e1a>:14: read_data_sets (from tensorflow.contrib.learn.python.learn.datasets.mnist) is deprecated and will be removed in a future version.\n",
            "Instructions for updating:\n",
            "Please use alternatives such as official/mnist/dataset.py from tensorflow/models.\n",
            "WARNING:tensorflow:From /usr/local/lib/python3.6/dist-packages/tensorflow_core/contrib/learn/python/learn/datasets/mnist.py:260: maybe_download (from tensorflow.contrib.learn.python.learn.datasets.base) is deprecated and will be removed in a future version.\n",
            "Instructions for updating:\n",
            "Please write your own downloading logic.\n",
            "WARNING:tensorflow:From /usr/local/lib/python3.6/dist-packages/tensorflow_core/contrib/learn/python/learn/datasets/mnist.py:262: extract_images (from tensorflow.contrib.learn.python.learn.datasets.mnist) is deprecated and will be removed in a future version.\n",
            "Instructions for updating:\n",
            "Please use tf.data to implement this functionality.\n",
            "Extracting ./mist_data/train-images-idx3-ubyte.gz\n",
            "WARNING:tensorflow:From /usr/local/lib/python3.6/dist-packages/tensorflow_core/contrib/learn/python/learn/datasets/mnist.py:267: extract_labels (from tensorflow.contrib.learn.python.learn.datasets.mnist) is deprecated and will be removed in a future version.\n",
            "Instructions for updating:\n",
            "Please use tf.data to implement this functionality.\n",
            "Extracting ./mist_data/train-labels-idx1-ubyte.gz\n",
            "WARNING:tensorflow:From /usr/local/lib/python3.6/dist-packages/tensorflow_core/contrib/learn/python/learn/datasets/mnist.py:110: dense_to_one_hot (from tensorflow.contrib.learn.python.learn.datasets.mnist) is deprecated and will be removed in a future version.\n",
            "Instructions for updating:\n",
            "Please use tf.one_hot on tensors.\n",
            "Extracting ./mist_data/t10k-images-idx3-ubyte.gz\n",
            "Extracting ./mist_data/t10k-labels-idx1-ubyte.gz\n",
            "WARNING:tensorflow:From /usr/local/lib/python3.6/dist-packages/tensorflow_core/contrib/learn/python/learn/datasets/mnist.py:290: DataSet.__init__ (from tensorflow.contrib.learn.python.learn.datasets.mnist) is deprecated and will be removed in a future version.\n",
            "Instructions for updating:\n",
            "Please use alternatives such as official/mnist/dataset.py from tensorflow/models.\n"
          ],
          "name": "stdout"
        }
      ]
    },
    {
      "cell_type": "code",
      "metadata": {
        "id": "eqL3leCmC0lS",
        "colab_type": "code",
        "colab": {}
      },
      "source": [
        "# initial parameter\n",
        "learning_rate = 0.001\n",
        "training_epochs = 15\n",
        "batch_size = 100\n",
        "keep_prob = tf.placeholder(tf.float32)"
      ],
      "execution_count": 0,
      "outputs": []
    },
    {
      "cell_type": "code",
      "metadata": {
        "id": "-2QocVHTC3ub",
        "colab_type": "code",
        "colab": {}
      },
      "source": [
        "# define CNN Model\n",
        "def build_CNN_classifier(x_data):\n",
        "    x_image = tf.reshape(x_data, [-1, 28, 28, 1])\n",
        "\n",
        "    # L1 image shape=(?, 28, 28, 1)\n",
        "    W1 = tf.Variable(tf.random_normal([3, 3, 1, 32], stddev=0.01))\n",
        "    L1 = tf.nn.conv2d(x_image, W1, strides=[1, 1, 1, 1], padding='SAME')\n",
        "    L1 = tf.nn.relu(L1)\n",
        "    L1 = tf.nn.max_pool(L1, ksize=[1, 2, 2, 1], strides=[1, 2, 2, 1], padding='SAME')\n",
        "    L1 = tf.nn.dropout(L1, keep_prob=keep_prob)\n",
        "\n",
        "    # L2 image shape=(?, 14, 14, 32)\n",
        "    W2 = tf.Variable(tf.random_normal([3, 3, 32, 64], stddev=0.01))\n",
        "    L2 = tf.nn.conv2d(L1, W2, strides=[1, 1, 1, 1], padding='SAME')\n",
        "    L2 = tf.nn.relu(L2)\n",
        "    L2 = tf.nn.max_pool(L2, ksize=[1, 2, 2, 1], strides=[1, 2, 2, 1], padding='SAME')\n",
        "    L2 = tf.nn.dropout(L2, keep_prob=keep_prob)\n",
        "\n",
        "    # L3 image shape=(?, 7, 7, 64)\n",
        "    W3 = tf.Variable(tf.random_normal([3, 3, 64, 128], stddev=0.01))\n",
        "    L3 = tf.nn.conv2d(L2, W3, strides=[1, 1, 1, 1], padding='SAME')\n",
        "    L3 = tf.nn.relu(L3)\n",
        "    L3 = tf.nn.max_pool(L3, ksize=[1, 2, 2, 1], strides=[1, 2, 2, 1], padding='SAME')\n",
        "    L3 = tf.nn.dropout(L3, keep_prob=keep_prob)\n",
        "    L3_flat = tf.reshape(L3, [-1, 128 * 4 * 4])\n",
        "\n",
        "    # L4 FC 4*4*128 inputs -> 625 outputs\n",
        "    W4 = tf.get_variable(\"W4\", shape=[128 * 4 * 4, 625], initializer=tf.contrib.layers.xavier_initializer())\n",
        "    b4 = tf.Variable(tf.random_normal([625]))\n",
        "    L4 = tf.nn.relu(tf.matmul(L3_flat, W4) + b4)\n",
        "    L4 = tf.nn.dropout(L4, keep_prob=keep_prob)\n",
        "\n",
        "    # L5 Final FC 625 inputs -> 10\n",
        "    W5 = tf.get_variable(\"W5\", shape=[625, 10], initializer=tf.contrib.layers.xavier_initializer())\n",
        "    b5 = tf.Variable(tf.random_normal([10]))\n",
        "    logits = tf.matmul(L4, W5) + b5\n",
        "    y_pred = tf.nn.softmax(logits)\n",
        "\n",
        "    return y_pred, logits\n"
      ],
      "execution_count": 0,
      "outputs": []
    },
    {
      "cell_type": "code",
      "metadata": {
        "id": "zOBh2aBeC7fx",
        "colab_type": "code",
        "colab": {}
      },
      "source": [
        "# define input, output variables by placehoder\n",
        "x = tf.placeholder(tf.float32, shape=[None, 784])\n",
        "y = tf.placeholder(tf.float32, shape=[None, 10])"
      ],
      "execution_count": 0,
      "outputs": []
    },
    {
      "cell_type": "code",
      "metadata": {
        "id": "nHmDnd5AD-oP",
        "colab_type": "code",
        "outputId": "65973eaf-50ef-498a-8e17-2f15fc7fea12",
        "colab": {
          "base_uri": "https://localhost:8080/",
          "height": 360
        }
      },
      "source": [
        "# define Convolutional Neural Networks(CNN)\n",
        "y_pred, logits = build_CNN_classifier(x)\n",
        "\n",
        "# cost/loss and optimizer\n",
        "loss = tf.reduce_mean(tf.nn.softmax_cross_entropy_with_logits(labels=y, logits=logits))\n",
        "train_step = tf.train.AdamOptimizer(learning_rate=learning_rate).minimize(loss)\n",
        "\n",
        "# caculate accuracy\n",
        "correct_prediction = tf.equal(tf.argmax(y_pred, 1), tf.argmax(y, 1))\n",
        "accuracy = tf.reduce_mean(tf.cast(correct_prediction, tf.float32))"
      ],
      "execution_count": 7,
      "outputs": [
        {
          "output_type": "stream",
          "text": [
            "WARNING:tensorflow:From <ipython-input-5-4b7a0203c5b9>:9: calling dropout (from tensorflow.python.ops.nn_ops) with keep_prob is deprecated and will be removed in a future version.\n",
            "Instructions for updating:\n",
            "Please use `rate` instead of `keep_prob`. Rate should be set to `rate = 1 - keep_prob`.\n",
            "WARNING:tensorflow:\n",
            "The TensorFlow contrib module will not be included in TensorFlow 2.0.\n",
            "For more information, please see:\n",
            "  * https://github.com/tensorflow/community/blob/master/rfcs/20180907-contrib-sunset.md\n",
            "  * https://github.com/tensorflow/addons\n",
            "  * https://github.com/tensorflow/io (for I/O related ops)\n",
            "If you depend on functionality not listed there, please file an issue.\n",
            "\n",
            "WARNING:tensorflow:From <ipython-input-7-4f35333bf7fc>:4: softmax_cross_entropy_with_logits (from tensorflow.python.ops.nn_ops) is deprecated and will be removed in a future version.\n",
            "Instructions for updating:\n",
            "\n",
            "Future major versions of TensorFlow will allow gradients to flow\n",
            "into the labels input on backprop by default.\n",
            "\n",
            "See `tf.nn.softmax_cross_entropy_with_logits_v2`.\n",
            "\n"
          ],
          "name": "stdout"
        }
      ]
    },
    {
      "cell_type": "code",
      "metadata": {
        "id": "xjbwSqh5GowB",
        "colab_type": "code",
        "colab": {}
      },
      "source": [
        "# save model and parameters by tf.train.Saver\n",
        "SAVER_DIR = \"./result_training/\"\n",
        "saver = tf.train.Saver()\n",
        "checkpoint_path = os.path.join(SAVER_DIR, \"model\")\n",
        "ckpt = tf.train.get_checkpoint_state(SAVER_DIR)"
      ],
      "execution_count": 0,
      "outputs": []
    },
    {
      "cell_type": "code",
      "metadata": {
        "id": "nXqw0gh-HwS0",
        "colab_type": "code",
        "outputId": "f166ca81-2701-445b-a197-f631bee2e83a",
        "colab": {
          "base_uri": "https://localhost:8080/",
          "height": 68
        }
      },
      "source": [
        "!ls -l"
      ],
      "execution_count": 9,
      "outputs": [
        {
          "output_type": "stream",
          "text": [
            "total 8\n",
            "drwxr-xr-x 2 root root 4096 Jan 25 04:58 mist_data\n",
            "drwxr-xr-x 1 root root 4096 Jan 13 16:38 sample_data\n"
          ],
          "name": "stdout"
        }
      ]
    },
    {
      "cell_type": "code",
      "metadata": {
        "id": "buOWOaeOGs-s",
        "colab_type": "code",
        "outputId": "d3557325-3db8-4ec5-dfe5-792608a84a62",
        "colab": {
          "base_uri": "https://localhost:8080/",
          "height": 588
        }
      },
      "source": [
        "# training data\n",
        "import time\n",
        "start_time = time.time()\n",
        "with tf.Session() as sess:\n",
        "    sess.run(tf.global_variables_initializer())\n",
        "    # if there are data saved, restore the data first\n",
        "    # else, start to training\n",
        "    #if ckpt and ckpt.model_checkpoint_path:\n",
        "        #saver.restore(sess, ckpt.model_checkpoint_path)\n",
        "        #print(\"Load of test set\")\n",
        "\n",
        "    #else:\n",
        "    for epoch in range(training_epochs):\n",
        "        avg_cost = 0\n",
        "        total_batch = int(mnist.train.num_examples/batch_size)\n",
        "        for step in range(total_batch):\n",
        "            batch_xs, batch_ys = mnist.train.next_batch(batch_size)\n",
        "            c, _ = sess.run([loss, train_step], feed_dict={x: batch_xs, y: batch_ys, keep_prob:0.7})\n",
        "            train_accuracy = accuracy.eval(feed_dict={x: batch_xs, y: batch_ys, keep_prob:0.7})\n",
        "            avg_cost += c / total_batch\n",
        "            #saver.save(sess, checkpoint_path, global_step=step)\n",
        "\n",
        "        print(\"Epoch:\", \"%04d\" % (epoch + 1), \"cost=\", \"{:.9f}\".format(avg_cost))\n",
        "\n",
        "    # test the model using tet sets\n",
        "    print(\"Accuracy : \", accuracy.eval(session=sess, feed_dict={x: mnist.test.images, y: mnist.test.labels, keep_prob:1.0}), )\n",
        "\n",
        "    # Get one and predict\n",
        "    r = random.randint(0, mnist.test.num_examples - 1)\n",
        "    print(\"Label: \", sess.run(tf.argmax(mnist.test.labels[r:r + 1], 1)))\n",
        "    print(\"Prediction: \", sess.run(tf.argmax(y_pred.eval(feed_dict={x: mnist.test.images[r:r + 1], keep_prob:1.0}),1)))\n",
        "    plt.imshow(mnist.test.images[r:r + 1].reshape(28, 28), cmap=\"Greys\", interpolation=\"nearest\", )\n",
        "    print('working time : %f 초' % (time.time() - start_time))\n",
        "    plt.show()\n"
      ],
      "execution_count": 10,
      "outputs": [
        {
          "output_type": "stream",
          "text": [
            "Epoch: 0001 cost= 0.356031926\n",
            "Epoch: 0002 cost= 0.105282041\n",
            "Epoch: 0003 cost= 0.079993059\n",
            "Epoch: 0004 cost= 0.064503905\n",
            "Epoch: 0005 cost= 0.055016609\n",
            "Epoch: 0006 cost= 0.047954093\n",
            "Epoch: 0007 cost= 0.046176621\n",
            "Epoch: 0008 cost= 0.039816581\n",
            "Epoch: 0009 cost= 0.040310589\n",
            "Epoch: 0010 cost= 0.036855631\n",
            "Epoch: 0011 cost= 0.035443319\n",
            "Epoch: 0012 cost= 0.030888128\n",
            "Epoch: 0013 cost= 0.031760953\n",
            "Epoch: 0014 cost= 0.028613958\n",
            "Epoch: 0015 cost= 0.028678297\n",
            "Accuracy :  0.9948\n",
            "Label:  [0]\n",
            "Prediction:  [0]\n",
            "작업 수행된 시간 : 57.669879 초\n"
          ],
          "name": "stdout"
        },
        {
          "output_type": "display_data",
          "data": {
            "image/png": "[encoded data removed]",
            "text/plain": [
              "<Figure size 432x288 with 1 Axes>"
            ]
          },
          "metadata": {
            "tags": []
          }
        }
      ]
    }
  ]
}